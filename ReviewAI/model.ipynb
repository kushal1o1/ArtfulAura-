{
 "cells": [
  {
   "cell_type": "code",
   "execution_count": null,
   "id": "cfa7a667",
   "metadata": {},
   "outputs": [],
   "source": [
    "!wget https://ai.stanford.edu/~amaas/data/sentiment/aclImdb_v1.tar.gz\n",
    "!tar -xzf aclImdb_v1.tar.gz\n"
   ]
  },
  {
   "cell_type": "code",
   "execution_count": null,
   "id": "09f82b18",
   "metadata": {},
   "outputs": [],
   "source": [
    "import os\n",
    "import numpy as np\n",
    "from sklearn.linear_model import LogisticRegression\n",
    "from sklearn.feature_extraction.text import TfidfVectorizer\n",
    "from sklearn.pipeline import Pipeline\n",
    "from sklearn.model_selection import train_test_split\n",
    "import joblib"
   ]
  },
  {
   "cell_type": "code",
   "execution_count": null,
   "id": "5daf989f",
   "metadata": {},
   "outputs": [],
   "source": [
    "def load_reviews(path):\n",
    "    data = []\n",
    "    labels = []\n",
    "    for label in ['pos', 'neg']:\n",
    "        dir_path = os.path.join(path, label)\n",
    "        for file in os.listdir(dir_path):\n",
    "            with open(os.path.join(dir_path, file), encoding='utf-8') as f:\n",
    "                data.append(f.read())\n",
    "                labels.append(1 if label == 'pos' else 0)\n",
    "    return data, labels"
   ]
  }
 ],
 "metadata": {
  "language_info": {
   "name": "python"
  }
 },
 "nbformat": 4,
 "nbformat_minor": 5
}
