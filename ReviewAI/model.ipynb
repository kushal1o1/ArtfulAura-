{
 "cells": [
  {
   "cell_type": "code",
   "execution_count": null,
   "id": "cfa7a667",
   "metadata": {},
   "outputs": [],
   "source": [
    "!wget https://ai.stanford.edu/~amaas/data/sentiment/aclImdb_v1.tar.gz\n",
    "!tar -xzf aclImdb_v1.tar.gz\n"
   ]
  },
  {
   "cell_type": "code",
   "execution_count": null,
   "id": "09f82b18",
   "metadata": {},
   "outputs": [],
   "source": [
    "import os\n",
    "import numpy as np\n",
    "from sklearn.linear_model import LogisticRegression\n",
    "from sklearn.feature_extraction.text import TfidfVectorizer\n",
    "from sklearn.pipeline import Pipeline\n",
    "from sklearn.model_selection import train_test_split\n",
    "import joblib"
   ]
  },
  {
   "cell_type": "code",
   "execution_count": null,
   "id": "5daf989f",
   "metadata": {},
   "outputs": [],
   "source": [
    "def load_reviews(path):\n",
    "    data = []\n",
    "    labels = []\n",
    "    for label in ['pos', 'neg']:\n",
    "        dir_path = os.path.join(path, label)\n",
    "        for file in os.listdir(dir_path):\n",
    "            with open(os.path.join(dir_path, file), encoding='utf-8') as f:\n",
    "                data.append(f.read())\n",
    "                labels.append(1 if label == 'pos' else 0)\n",
    "    return data, labels"
   ]
  },
  {
   "cell_type": "code",
   "execution_count": null,
   "id": "42035b4d",
   "metadata": {},
   "outputs": [],
   "source": [
    "train_data_path = \"aclImdb/train\"\n",
    "X, y = load_reviews(train_data_path)"
   ]
  },
  {
   "cell_type": "code",
   "execution_count": null,
   "id": "5cb3c74e",
   "metadata": {},
   "outputs": [],
   "source": [
    "# Step 3: Train-Test Split\n",
    "X_train, X_test, y_train, y_test = train_test_split(X, y, test_size=0.2, random_state=42)"
   ]
  },
  {
   "cell_type": "code",
   "execution_count": null,
   "id": "a4b0d078",
   "metadata": {},
   "outputs": [],
   "source": [
    "\n",
    "# Step 4: Pipeline (TF-IDF + Logistic Regression)\n",
    "model = Pipeline([\n",
    "    ('tfidf', TfidfVectorizer(max_features=10000)),\n",
    "    ('clf', LogisticRegression())\n",
    "])\n"
   ]
  },
  {
   "cell_type": "code",
   "execution_count": null,
   "id": "906410cc",
   "metadata": {},
   "outputs": [],
   "source": [
    "model.fit(X_train, y_train)\n",
    "print(\"Accuracy:\", model.score(X_test, y_test))"
   ]
  },
  {
   "cell_type": "code",
   "execution_count": null,
   "id": "043afaef",
   "metadata": {},
   "outputs": [],
   "source": [
    "def predict_review_sentiment():\n",
    "    review = input(\"Enter a review: \")\n",
    "    prediction = model.predict([review])[0]\n",
    "    sentiment = \"Positive 😊\" if prediction == 1 else \"Negative 😞\"\n",
    "    print(f\"Sentiment: {sentiment}\")\n",
    "predict_review_sentiment()"
   ]
  },
  {
   "cell_type": "code",
   "execution_count": null,
   "id": "759177f7",
   "metadata": {},
   "outputs": [],
   "source": [
    "joblib.dump(model, 'review_classifier.pkl')"
   ]
  }
 ],
 "metadata": {
  "language_info": {
   "name": "python"
  }
 },
 "nbformat": 4,
 "nbformat_minor": 5
}
